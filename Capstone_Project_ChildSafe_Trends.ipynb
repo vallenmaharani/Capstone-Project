{
  "nbformat": 4,
  "nbformat_minor": 0,
  "metadata": {
    "colab": {
      "provenance": [],
      "authorship_tag": "ABX9TyPbtmaPZ1hJx9i8Q1ky4jAo",
      "include_colab_link": true
    },
    "kernelspec": {
      "name": "python3",
      "display_name": "Python 3"
    },
    "language_info": {
      "name": "python"
    }
  },
  "cells": [
    {
      "cell_type": "markdown",
      "metadata": {
        "id": "view-in-github",
        "colab_type": "text"
      },
      "source": [
        "<a href=\"https://colab.research.google.com/github/vallenmaharani/Capstone-Project/blob/main/Capstone_Project_ChildSafe_Trends.ipynb\" target=\"_parent\"><img src=\"https://colab.research.google.com/assets/colab-badge.svg\" alt=\"Open In Colab\"/></a>"
      ]
    },
    {
      "cell_type": "code",
      "execution_count": 1,
      "metadata": {
        "colab": {
          "base_uri": "https://localhost:8080/"
        },
        "id": "eSl8abf3nO-o",
        "outputId": "84ccb142-15a4-42bd-d057-2b55113a3cbd"
      },
      "outputs": [
        {
          "output_type": "stream",
          "name": "stdout",
          "text": [
            "\u001b[2K   \u001b[90m━━━━━━━━━━━━━━━━━━━━━━━━━━━━━━━━━━━━━━━━\u001b[0m \u001b[32m2.5/2.5 MB\u001b[0m \u001b[31m37.9 MB/s\u001b[0m eta \u001b[36m0:00:00\u001b[0m\n",
            "\u001b[2K   \u001b[90m━━━━━━━━━━━━━━━━━━━━━━━━━━━━━━━━━━━━━━━━\u001b[0m \u001b[32m45.2/45.2 kB\u001b[0m \u001b[31m4.0 MB/s\u001b[0m eta \u001b[36m0:00:00\u001b[0m\n",
            "\u001b[2K   \u001b[90m━━━━━━━━━━━━━━━━━━━━━━━━━━━━━━━━━━━━━━━━\u001b[0m \u001b[32m50.9/50.9 kB\u001b[0m \u001b[31m3.0 MB/s\u001b[0m eta \u001b[36m0:00:00\u001b[0m\n",
            "\u001b[2K   \u001b[90m━━━━━━━━━━━━━━━━━━━━━━━━━━━━━━━━━━━━━━━━\u001b[0m \u001b[32m48.6/48.6 kB\u001b[0m \u001b[31m2.9 MB/s\u001b[0m eta \u001b[36m0:00:00\u001b[0m\n",
            "\u001b[?25h"
          ]
        }
      ],
      "source": [
        "!pip install -q langchain_community\n",
        "!pip install -q replicate"
      ]
    },
    {
      "cell_type": "code",
      "source": [
        "from langchain_community.llms import Replicate\n",
        "import os\n",
        "from google.colab import userdata\n",
        "# Set the API token\n",
        "api_token = userdata.get('api_token')\n",
        "os.environ[\"REPLICATE_API_TOKEN\"] = api_token\n",
        "# Model setup\n",
        "model = \"ibm-granite/granite-3.2-8b-instruct\"\n",
        "output = Replicate(\n",
        "model=model,\n",
        "replicate_api_token=api_token,\n",
        ")"
      ],
      "metadata": {
        "id": "2ivizleAnkin"
      },
      "execution_count": 2,
      "outputs": []
    },
    {
      "cell_type": "code",
      "source": [
        "# Define the violence against children reports\n",
        "violence_against_children_reports = {\n",
        "    \"Aceh\": [404, 386, 492, 507, 589],\n",
        "    \"Bali\": [56, 130, 198, 180, 231],\n",
        "    \"Bangka Belitung\": [117, 109, 115, 114, 188],\n",
        "    \"Banten\": [292, 506, 646, 611, 690],\n",
        "    \"Bengkulu\": [91, 146, 148, 276, 179],\n",
        "    \"Daerah Istimewa Yogyakarta\": [501, 531, 618, 533, 575],\n",
        "    \"DKI Jakarta\": [461, 879, 794, 380, 1166],\n",
        "    \"Gorontalo\": [131, 257, 156, 244, 200],\n",
        "    \"Jambi\": [204, 278, 241, 281, 362],\n",
        "    \"Jawa Barat\": [733, 949, 1053, 1696, 1971],\n",
        "    \"Jawa Tengah\": [1203, 1125, 1218, 1255, 1309],\n",
        "    \"Jawa Timur\": [1304, 1191, 1388, 1531, 1489],\n",
        "    \"Kalimantan Barat\": [329, 368, 378, 347, 453],\n",
        "    \"Kalimantan Selatan\": [166, 261, 403, 412, 550],\n",
        "    \"Kalimantan Tengah\": [92, 141, 219, 239, 298],\n",
        "    \"Kalimatan Timur\": [353, 357, 491, 622, 658],\n",
        "    \"Kalimantan Utara\": [127, 119, 182, 153, 184],\n",
        "    \"Kepulauan Riau\": [286, 230, 339, 375, 398],\n",
        "    \"Lampung\": [311, 484, 427, 612, 586],\n",
        "    \"Maluku\": [165, 223, 219, 258, 246],\n",
        "    \"Maluku Utara\": [85, 167, 236, 237, 274],\n",
        "    \"Nusa Tenggara Barat\": [449, 613, 640, 601, 603],\n",
        "    \"Nusa Tenggara Timur\": [274, 373, 611, 652, 681],\n",
        "    \"Papua\": [39, 35, 34, 33, 89],\n",
        "    \"Papua Barat\": [89, 103, 91, 77, 77],\n",
        "    \"Papua Barat Daya\": [15, 19, 38, 46, 45],\n",
        "    \"Papua Pegunungan\": [0, 0, 0, 5, 6],\n",
        "    \"Papua Selatan\": [16, 73, 42, 57, 43],\n",
        "    \"Papua Tengah\": [12, 31, 68, 32, 37],\n",
        "    \"Riau\": [244, 688, 614, 833, 951],\n",
        "    \"Sulawesi Barat\": [19, 169, 88, 93, 89],\n",
        "    \"Sulawesi Selatan\": [918, 750, 812, 974, 981],\n",
        "    \"Sulawesi Tengah\": [181, 278, 365, 421, 411],\n",
        "    \"Sulawesi Tenggara\": [165, 189, 256, 332, 337],\n",
        "    \"Sulawesi Utara\": [298, 348, 631, 799, 581],\n",
        "    \"Sumatera Barat\": [282, 699, 592, 783, 721],\n",
        "    \"Sumatera Selatan\": [211, 247, 301, 458, 351],\n",
        "    \"Sumatera Utara\": [641, 994, 962, 1116, 1029]\n",
        "}\n",
        "\n",
        "# Initialize a dictionary to store growth metrics\n",
        "growth_metrics = {}\n",
        "\n",
        "# Calculate growth metrics for each province\n",
        "for province, values in violence_against_children_reports.items():\n",
        "    total_growth = values[-1] - values [0]\n",
        "    average_annual_growth = total_growth / 5\n",
        "\n",
        "    growth_metrics[province] = {\n",
        "        \"total_growth\": total_growth,\n",
        "        \"average_annual_growth\": average_annual_growth\n",
        "    }\n",
        "\n",
        "# Refine the prompt to include reports\n",
        "reports_text = \"\\n\".join([\n",
        "    f\"{province}: {round(metrics['average_annual_growth'], 2)}\"\n",
        "    for province, metrics in growth_metrics.items()\n",
        "])\n",
        "prompt = f\"\"\"\n",
        "Classify the following provinces based on the following definitions:\n",
        "- Very High: If the average annual growth more than or equal to 50 cases/year.\n",
        "- High: If the average annual growth between 25-49 cases/year.\n",
        "- Medium: If the average annual growth between 10-24 cases/year.\n",
        "- Low: If the average annual growth between 1-10 cases/year.\n",
        "- Very Low: If the average annual growth shows minus or decrease.\n",
        "\n",
        "Write the reports in this format:\n",
        "very high: Province1, Province2, ...\n",
        "high: Province1, Province2, ...\n",
        "medium: Province1, Province2, ...\n",
        "low: Province1, Province2, ...\n",
        "very low: Province1, Province2, ...\n",
        "\n",
        "{reports_text}\n",
        "\"\"\"\n",
        "# Invoke the model with the example prompt\n",
        "response = output.invoke(prompt)\n",
        "# Print the response\n",
        "print(\"Granite Model Response:\\n\")\n",
        "print(response)"
      ],
      "metadata": {
        "colab": {
          "base_uri": "https://localhost:8080/"
        },
        "id": "aRvA25dynmxQ",
        "outputId": "5cbf8576-501e-4f5c-d677-07c61e5dbe88"
      },
      "execution_count": 3,
      "outputs": [
        {
          "output_type": "stream",
          "name": "stdout",
          "text": [
            "Granite Model Response:\n",
            "\n",
            "very high: DKI Jakarta\n",
            "high: Jawa Barat, Jawa Tengah, Jawa Timur, Sumatera Barat, Sumatera Selatan, Sumatera Utara, Kalimantan Barat, Kalimantan Selatan, Kalimantan Tengah, Sulawesi Selatan, Sulawesi Tenggara, Sulawesi Utara\n",
            "medium: Banten, Bengkulu, Bali, Bangka Belitung, Lampung, Papua Barat, Riau, Kalimantan Timur, Nusa Tenggara Barat, Nusa Tenggara Timur, Papua Pegunungan, Papua Selatan, Papua Tengah, Sulawesi Barat\n",
            "low: Aceh, DKI Jakarta, Gorontalo, Jambi, Kalimantan Utara, Kepulauan Riau, Maluku, Maluku Utara, Daerah Istimewa Yogyakarta, Papua\n",
            "very low: Papua Barat Daya\n"
          ]
        }
      ]
    }
  ]
}